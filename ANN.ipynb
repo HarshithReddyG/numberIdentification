{
 "cells": [
  {
   "cell_type": "code",
   "execution_count": 17,
   "id": "cdf61b3c",
   "metadata": {},
   "outputs": [],
   "source": [
    "import numpy as np\n",
    "import matplotlib.pyplot as plt \n",
    "import random"
   ]
  },
  {
   "cell_type": "code",
   "execution_count": 117,
   "id": "4f560523",
   "metadata": {},
   "outputs": [],
   "source": [
    "X_train = np.loadtxt('train_X.csv', delimiter = ',').T\n",
    "y_train = np.loadtxt('train_label.csv', delimiter = ',').T\n",
    "X_test = np.loadtxt('test_X.csv', delimiter = ',').T\n",
    "y_test = np.loTopics (separate with spaces)adtxt('test_label.csv', delimiter = ',').T"
   ]
  },
  {
   "cell_type": "code",
   "execution_count": 118,
   "id": "78264682",
   "metadata": {},
   "outputs": [
    {
     "data": {
      "image/png": "[encoded data removed]",
      "text/plain": [
       "<Figure size 432x288 with 1 Axes>"
      ]
     },
     "metadata": {
      "needs_background": "light"
     },
     "output_type": "display_data"
    }
   ],
   "source": [
    "index = random.randrange(0, X_train.shape[1])\n",
    "plt.imshow(X_train[:, index].reshape(28, 28), cmap = 'grey')\n",
    "plt.show()"
   ]
  },
  {
   "cell_type": "code",
   "execution_count": 50,
   "id": "787864d5",
   "metadata": {},
   "outputs": [],
   "source": [
    "def tanh(x):\n",
    "    return np.tanh(x)\n",
    "\n",
    "def relu(x):\n",
    "    return np.maximum(x, 0)\n",
    "\n",
    "def softmax(x):\n",
    "    expX = np.exp(x)\n",
    "    return expX/np.sum(expX, axis = 0)"
   ]
  },
  {
   "cell_type": "code",
   "execution_count": 51,
   "id": "78f2fad8",
   "metadata": {},
   "outputs": [],
   "source": [
    "def derivative_tanh(x):\n",
    "    return(1 - np.power(x,2))\n",
    "\n",
    "def derivative_relu(x):\n",
    "    return np.array(x > 0, dtype = np.float32)"
   ]
  },
  {
   "cell_type": "code",
   "execution_count": 52,
   "id": "616dc683",
   "metadata": {},
   "outputs": [],
   "source": [
    "#Initialize paarameters \n",
    "\n",
    "def initialize_parameters(n_x, n_h, n_y):\n",
    "    w1 = np.random.randn(n_h, n_x)*0.01\n",
    "    b1 = np.zeros((n_h, 1))\n",
    "    \n",
    "    w2 = np.random.randn(n_y, n_h)*0.01\n",
    "    b2 = np.zeros((n_y, 1))\n",
    "    \n",
    "    parameters = {\n",
    "        \"w1\" : w1,\n",
    "        \"b1\" : b1,\n",
    "        \"w2\" : w2,\n",
    "        \"b2\" : b2\n",
    "    }\n",
    "    \n",
    "    return parameters\n",
    "    "
   ]
  },
  {
   "cell_type": "code",
   "execution_count": 61,
   "id": "8e8a79c4",
   "metadata": {},
   "outputs": [],
   "source": [
    "#forward propogation \n",
    "\n",
    "def forward_propogation(x, parameters):\n",
    "    \n",
    "    w1 = parameters['w1']\n",
    "    b1 = parameters['b1']\n",
    "    w2 = parameters['w2']\n",
    "    b2 = parameters['b2']\n",
    "    \n",
    "    \n",
    "    z1 = np.dot(w1, x) + b1\n",
    "    a1 = relu(z1)\n",
    "    \n",
    "    z2 = np.dot(w2, a1) + b2\n",
    "    a2 = softmax(z2)\n",
    "    \n",
    "    forward_cache = {\n",
    "        \"z1\" : z1,\n",
    "        \"a1\" : a1, \n",
    "        \"z2\" : z2,\n",
    "        \"a2\" : a2\n",
    "    }\n",
    "    \n",
    "    return forward_cache"
   ]
  },
  {
   "cell_type": "code",
   "execution_count": 71,
   "id": "678d4b97",
   "metadata": {},
   "outputs": [],
   "source": [
    "#cost function \n",
    "def cost_function(a2, y):\n",
    "    \n",
    "    m = y.shape[1]\n",
    "    \n",
    "    cost = -(1/m)*np.sum(y*np.log(a2))\n",
    "    \n",
    "    return cost"
   ]
  },
  {
   "cell_type": "code",
   "execution_count": 88,
   "id": "6a6a5aa6",
   "metadata": {},
   "outputs": [],
   "source": [
    "#backward propogation\n",
    "\n",
    "def backward_propagation(x, y, parameters, forward_cache):\n",
    "    w1 = parameters['w1']\n",
    "    b1 = parameters['b1']\n",
    "    w2 = parameters['w2']\n",
    "    b2 = parameters['b2']\n",
    "    \n",
    "    a1 = forward_cache['a1']\n",
    "    a2 = forward_cache['a2']\n",
    "    \n",
    "    m = x.shape[1]\n",
    "    \n",
    "    dz2 = (a2 - y)\n",
    "    dw2 = (1/m)*np.dot(dz2, a1.T)\n",
    "    db2 = (1/m)*np.sum(dz2, axis = 1, keepdims = True)\n",
    "    \n",
    "    dz1 = (1/m)*np.dot(w2.T, dz2)*derivative_relu(a1)\n",
    "    dw1 = (1/m)*np.dot(dz1, x.T)\n",
    "    db1 = (1/m)*np.sum(dz1, axis = 1, keepdims = True)\n",
    "    \n",
    "    gradients = {\n",
    "        \"dw1\" : dw1,\n",
    "        \"db1\" : db1,\n",
    "        \"dw2\" : dw2, \n",
    "        \"db2\" : db2\n",
    "    }\n",
    "    \n",
    "    return gradients"
   ]
  },
  {
   "cell_type": "code",
   "execution_count": 89,
   "id": "878fe1ef",
   "metadata": {},
   "outputs": [],
   "source": [
    "#update parameters \n",
    "def update_parameters(parameters, gradients, learning_rate):\n",
    "    w1 = parameters['w1']\n",
    "    b1 = parameters['b1']\n",
    "    w2 = parameters['w2']\n",
    "    b2 = parameters['b2'] \n",
    "    \n",
    "    dw1 = gradients['dw1']\n",
    "    db1 = gradients['db1']\n",
    "    dw2 = gradients['dw2']\n",
    "    db2 = gradients['db2']\n",
    "    \n",
    "    w1 = w1 - learning_rate*dw1\n",
    "    b1 = b1 - learning_rate*db1\n",
    "    w2 = w2 - learning_rate*dw2\n",
    "    b2 = b2 - learning_rate*db2\n",
    "        \n",
    "    parameters = {\n",
    "        \"w1\" : w1,\n",
    "        \"b1\" : b1,\n",
    "        \"w2\" : w2,\n",
    "        \"b2\" : b2\n",
    "    }\n",
    "    \n",
    "    return parameters  "
   ]
  },
  {
   "cell_type": "code",
   "execution_count": 102,
   "id": "1067518b",
   "metadata": {},
   "outputs": [],
   "source": [
    "#complete model \n",
    "\n",
    "def model(x, y, n_h, learning_rate, iterations):\n",
    "    n_x = x.shape[0]\n",
    "    n_y = y.shape[0]\n",
    "\n",
    "    parameters = initialize_parameters(n_x, n_h, n_y)\n",
    "    \n",
    "    cost_list = []\n",
    "    \n",
    "    for i in range(iterations):\n",
    "        \n",
    "        forward_cache = forward_propogation(x, parameters)\n",
    "        \n",
    "        cost = cost_function(forward_cache['a2'], y)\n",
    "        \n",
    "        gradients = backward_propagation(x, y, parameters, forward_cache)\n",
    "        \n",
    "        parameters = update_parameters(parameters, gradients, learning_rate)\n",
    "        \n",
    "        cost_list.append(cost)\n",
    "        \n",
    "        if(i%(iterations/10) == 0):\n",
    "            print(\"cost after \", i, \" iterations is: \", cost)\n",
    "            \n",
    "    return parameters, cost_list"
   ]
  },
  {
   "cell_type": "code",
   "execution_count": 103,
   "id": "a7c9253b",
   "metadata": {},
   "outputs": [
    {
     "name": "stdout",
     "output_type": "stream",
     "text": [
      "cost after  0  iterations is:  7.825068283383142\n",
      "cost after  10  iterations is:  42.1375243419903\n",
      "cost after  20  iterations is:  3.5768133481151265\n",
      "cost after  30  iterations is:  1.4163510075189691\n",
      "cost after  40  iterations is:  0.40827017417659023\n",
      "cost after  50  iterations is:  0.2575975386644915\n",
      "cost after  60  iterations is:  0.22685150904365275\n",
      "cost after  70  iterations is:  1.5909667218610601\n",
      "cost after  80  iterations is:  0.09697775170403933\n",
      "cost after  90  iterations is:  0.052836786223458845\n"
     ]
    }
   ],
   "source": [
    "iterations = 100\n",
    "n_h = 1000\n",
    "learning_rate = 0.002\n",
    "parameters, cost_list = model(X_train, Y_train, n_h = n_h, learning_rate = learning_rate, iterations = iterations)"
   ]
  },
  {
   "cell_type": "code",
   "execution_count": 104,
   "id": "95e7ffe6",
   "metadata": {},
   "outputs": [
    {
     "data": {
      "image/png": "[encoded data removed]",
      "text/plain": [
       "<Figure size 432x288 with 1 Axes>"
      ]
     },
     "metadata": {
      "needs_background": "light"
     },
     "output_type": "display_data"
    }
   ],
   "source": [
    "t = np.arange(0, iterations)\n",
    "plt.plot(t, cost_list)\n",
    "plt.show()"
   ]
  },
  {
   "cell_type": "code",
   "execution_count": 122,
   "id": "f685c20b",
   "metadata": {},
   "outputs": [],
   "source": [
    "def accuracy(inp, labels, parameters):\n",
    "    forwardCache = forward_propogation(inp, parameters)\n",
    "    a_out = forwardCache['a2']\n",
    "    a_out = np.argmax(a_out, 0)\n",
    "    y_out = np.argmax(labels, 0)\n",
    "\n",
    "    accuracy = np.mean(a_out == y_out)*100\n",
    "    \n",
    "    return accuracy"
   ]
  },
  {
   "cell_type": "code",
   "execution_count": 123,
   "id": "87876480",
   "metadata": {},
   "outputs": [
    {
     "name": "stdout",
     "output_type": "stream",
     "text": [
      "Accuracy of the training dataset:  99.7\n",
      "Accuracy of the training dataset:  87.14285714285714\n"
     ]
    }
   ],
   "source": [
    "print(\"Accuracy of the training dataset: \", accuracy(X_train, y_train, parameters))\n",
    "print(\"Accuracy of the training dataset: \", accuracy(X_test, y_test, parameters))"
   ]
  },
  {
   "cell_type": "code",
   "execution_count": 132,
   "id": "5ea8dc7d",
   "metadata": {},
   "outputs": [
    {
     "data": {
      "image/png": "[encoded data removed]",
      "text/plain": [
       "<Figure size 432x288 with 1 Axes>"
      ]
     },
     "metadata": {
      "needs_background": "light"
     },
     "output_type": "display_data"
    },
    {
     "name": "stdout",
     "output_type": "stream",
     "text": [
      "Our model says it is:  [0]\n"
     ]
    }
   ],
   "source": [
    "idx = random.randrange(0, X_test.shape[1])\n",
    "plt.imshow(X_test[:, idx].reshape(28, 28), cmap = 'grey')\n",
    "plt.show()\n",
    "\n",
    "forwardCache = forward_propogation(X_test[:, idx].reshape(X_test.shape[0], 1), parameters)\n",
    "a_out = forwardCache['a2']\n",
    "a_out = np.argmax(a_out, 0)\n",
    "print(\"Our model says it is: \", a_out)"
   ]
  },
  {
   "cell_type": "code",
   "execution_count": null,
   "id": "4cedc998",
   "metadata": {},
   "outputs": [],
   "source": []
  }
 ],
 "metadata": {
  "kernelspec": {
   "display_name": "Python 3 (ipykernel)",
   "language": "python",
   "name": "python3"
  },
  "language_info": {
   "codemirror_mode": {
    "name": "ipython",
    "version": 3
   },
   "file_extension": ".py",
   "mimetype": "text/x-python",
   "name": "python",
   "nbconvert_exporter": "python",
   "pygments_lexer": "ipython3",
   "version": "3.9.7"
  }
 },
 "nbformat": 4,
 "nbformat_minor": 5
}
